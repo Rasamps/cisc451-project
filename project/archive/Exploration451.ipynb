{
  "nbformat": 4,
  "nbformat_minor": 0,
  "metadata": {
    "colab": {
      "name": "Exploration451.ipynb",
      "provenance": [],
      "collapsed_sections": [],
      "authorship_tag": "ABX9TyNublM+xwOU5Lz52CUh8O88",
      "include_colab_link": true
    },
    "kernelspec": {
      "name": "python3",
      "display_name": "Python 3"
    }
  },
  "cells": [
    {
      "cell_type": "markdown",
      "metadata": {
        "id": "view-in-github",
        "colab_type": "text"
      },
      "source": [
        "<a href=\"https://colab.research.google.com/github/Rasamps/the-rapidminers/blob/master/Exploration451.ipynb\" target=\"_parent\"><img src=\"https://colab.research.google.com/assets/colab-badge.svg\" alt=\"Open In Colab\"/></a>"
      ]
    },
    {
      "cell_type": "code",
      "metadata": {
        "id": "unXFryIk2NZr"
      },
      "source": [
        "import numpy as np\n",
        "import pandas as pd\n",
        "from statsmodels.tsa.arima_model import ARIMA\n",
        "from google.colab import drive\n",
        "import glob"
      ],
      "execution_count": 9,
      "outputs": []
    },
    {
      "cell_type": "code",
      "metadata": {
        "id": "mJe9Fmg93g8O",
        "outputId": "48d3de1a-1821-4246-fa1b-f08a4b385848",
        "colab": {
          "base_uri": "https://localhost:8080/",
          "height": 34
        }
      },
      "source": [
        "drive.mount(\"/content/drive\") "
      ],
      "execution_count": 10,
      "outputs": [
        {
          "output_type": "stream",
          "text": [
            "Drive already mounted at /content/drive; to attempt to forcibly remount, call drive.mount(\"/content/drive\", force_remount=True).\n"
          ],
          "name": "stdout"
        }
      ]
    },
    {
      "cell_type": "code",
      "metadata": {
        "id": "NzJaPgFo6oDe"
      },
      "source": [
        "li = []\n",
        "for country in all_countries:\n",
        "  df = pd.read_csv(country, index_col=None, header=0)\n",
        "  li.append(df)\n",
        "\n",
        "frame = pd.concat"
      ],
      "execution_count": null,
      "outputs": []
    },
    {
      "cell_type": "code",
      "metadata": {
        "id": "aoMwcYa84fvK",
        "outputId": "df7c2482-b133-4977-c2c9-c65d864ac7af",
        "colab": {
          "base_uri": "https://localhost:8080/",
          "height": 527
        }
      },
      "source": [
        "locations = ['bd', 'bh', 'ca', 'fr', 'gt', 'hk', 'hu', 'id', 'in', 'iq']#, 'kw', 'lk', 'lu', 'mn', 'no', 'np', 'pe', 'pk', 'ug', 'vm']\n",
        "\n",
        "\n",
        "for i in range(0,len(locations)):\n",
        "  path = '/content/country_data/' + locations[i] + '_data.csv'\n",
        "  print(\"Current directory is: \" + locations[i])\n",
        "  readings = 0\n",
        "  unhealthy = 0\n",
        "  df = pd.read_csv(path, header=0, index_col = None)\n",
        "  df = df[df.parameter == \"pm25\"]\n",
        "  \n",
        "  for measurement in df['value']:\n",
        "    readings += 1\n",
        "    if float(measurement) > 35:\n",
        "      unhealthy += 1\n",
        "\n",
        "  print(readings)\n",
        "  print(unhealthy)\n",
        "  "
      ],
      "execution_count": 46,
      "outputs": [
        {
          "output_type": "stream",
          "text": [
            "Current directory is: bd\n",
            "15813\n",
            "9540\n",
            "Current directory is: bh\n",
            "15855\n",
            "10092\n",
            "Current directory is: ca\n",
            "13589\n",
            "35\n",
            "Current directory is: fr\n",
            "0\n",
            "0\n",
            "Current directory is: gt\n",
            "1718\n",
            "66\n",
            "Current directory is: hk\n",
            "15572\n",
            "2139\n",
            "Current directory is: hu\n",
            "14767\n",
            "1107\n",
            "Current directory is: id\n",
            "5171\n",
            "3745\n",
            "Current directory is: in\n",
            "16197\n",
            "7914\n",
            "Current directory is: iq\n",
            "6995\n",
            "2671\n"
          ],
          "name": "stdout"
        }
      ]
    },
    {
      "cell_type": "code",
      "metadata": {
        "id": "wkBekIs0N-uT"
      },
      "source": [
        ""
      ],
      "execution_count": null,
      "outputs": []
    }
  ]
}